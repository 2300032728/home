{
  "nbformat": 4,
  "nbformat_minor": 0,
  "metadata": {
    "colab": {
      "provenance": [],
      "toc_visible": true,
      "authorship_tag": "ABX9TyNxX88+NNl4lD4HSP374+UT",
      "include_colab_link": true
    },
    "kernelspec": {
      "name": "python3",
      "display_name": "Python 3"
    },
    "language_info": {
      "name": "python"
    }
  },
  "cells": [
    {
      "cell_type": "markdown",
      "metadata": {
        "id": "view-in-github",
        "colab_type": "text"
      },
      "source": [
        "<a href=\"https://colab.research.google.com/github/2300032728/home/blob/main/dav_lab5.ipynb\" target=\"_parent\"><img src=\"https://colab.research.google.com/assets/colab-badge.svg\" alt=\"Open In Colab\"/></a>"
      ]
    },
    {
      "cell_type": "code",
      "execution_count": 1,
      "metadata": {
        "colab": {
          "base_uri": "https://localhost:8080/"
        },
        "id": "zMOuLlauii1R",
        "outputId": "a62f59ff-86b5-40e7-c5d2-8374a2cb49a3"
      },
      "outputs": [
        {
          "output_type": "stream",
          "name": "stdout",
          "text": [
            "Original Data:\n",
            "     Value\n",
            "0      10\n",
            "1      12\n",
            "2      12\n",
            "3      13\n",
            "4      12\n",
            "5      14\n",
            "6      13\n",
            "7      15\n",
            "8     100\n",
            "9      12\n",
            "10     14\n",
            "11     13\n",
            "12     16\n",
            "13    200\n",
            "14     13\n",
            "15     14\n",
            "\n",
            "IQR Outliers:\n",
            "     Value\n",
            "8     100\n",
            "13    200\n",
            "\n",
            "Z-Score Outliers:\n",
            "     Value\n",
            "13    200\n"
          ]
        }
      ],
      "source": [
        "import numpy as np\n",
        "import pandas as pd\n",
        "from scipy import stats\n",
        "\n",
        "# Sample dataset\n",
        "data = [10, 12, 12, 13, 12, 14, 13, 15, 100, 12, 14, 13, 16, 200, 13, 14]\n",
        "\n",
        "df = pd.DataFrame(data, columns=['Value'])\n",
        "\n",
        "print(\"Original Data:\\n\", df)\n",
        "\n",
        "Q1 = df['Value'].quantile(0.25)\n",
        "Q3 = df['Value'].quantile(0.75)\n",
        "IQR = Q3 - Q1\n",
        "\n",
        "lower_bound = Q1 - 1.5 * IQR\n",
        "upper_bound = Q3 + 1.5 * IQR\n",
        "\n",
        "iqr_outliers = df[(df['Value'] < lower_bound) | (df['Value'] > upper_bound)]\n",
        "\n",
        "print(\"\\nIQR Outliers:\\n\", iqr_outliers)\n",
        "\n",
        "\n",
        "z_scores = np.abs(stats.zscore(df['Value']))\n",
        "threshold = 3\n",
        "zscore_outliers = df[z_scores > threshold]\n",
        "\n",
        "print(\"\\nZ-Score Outliers:\\n\", zscore_outliers)"
      ]
    },
    {
      "cell_type": "code",
      "source": [
        "import matplotlib.pyplot as plt\n",
        "import seaborn as sns\n",
        "import pandas as pd\n",
        "\n",
        "\n",
        "data = [10, 12, 12, 13, 12, 14, 13, 15, 100, 12, 14, 13, 16, 200, 13, 14]\n",
        "\n",
        "df = pd.DataFrame(data, columns=['Value'])\n",
        "\n",
        "\n",
        "plt.figure(figsize=(8,5))\n",
        "sns.boxplot(x=df['Value'], color=\"skyblue\", fliersize=10)\n",
        "\n",
        "plt.title(\"Boxplot to Identify Outliers\", fontsize=14)\n",
        "plt.xlabel(\"Values\", fontsize=12)\n",
        "plt.grid(axis=\"x\", linestyle=\"--\", alpha=0.6)\n",
        "\n",
        "plt.show()"
      ],
      "metadata": {
        "colab": {
          "base_uri": "https://localhost:8080/",
          "height": 492
        },
        "id": "-3OIdw4jkTpq",
        "outputId": "b3e1fa84-c325-4c05-dae1-553a34e93055"
      },
      "execution_count": 2,
      "outputs": [
        {
          "output_type": "display_data",
          "data": {
            "text/plain": [
              "<Figure size 800x500 with 1 Axes>"
            ],
            "image/png": "[encoded data removed]"
          },
          "metadata": {}
        }
      ]
    },
    {
      "cell_type": "code",
      "source": [
        "import pandas as pd\n",
        "import numpy as np\n",
        "import matplotlib.pyplot as plt\n",
        "import seaborn as sns\n",
        "\n",
        "\n",
        "data = {\n",
        "    'Age': ['<=30','<=30','31-40','>=40','<=30','31-40','>=40','<=30','>=40','31-40','<=30','>=40','31-40','>=40','<=30'],\n",
        "    'Income': [40, 42, 39, 41, 43, 40, 300, 45, 38, 410, 44, 42, 39, 37, 450],  # Notice huge outliers (300, 410, 450)\n",
        "    'Student': ['No','No','Yes','Yes','Yes','No','Yes','No','Yes','No','Yes','No','Yes','No','Yes'],\n",
        "    'Buys_Computer': ['No','No','Yes','Yes','Yes','No','Yes','No','Yes','No','Yes','No','Yes','No','Yes']\n",
        "}\n",
        "\n",
        "df = pd.DataFrame(data)\n",
        "print(\"Original Dataset:\\n\", df)\n",
        "\n",
        "Q1 = df['Income'].quantile(0.25)\n",
        "Q3 = df['Income'].quantile(0.75)\n",
        "IQR = Q3 - Q1\n",
        "\n",
        "lower_bound = Q1 - 1.5 * IQR\n",
        "upper_bound = Q3 + 1.5 * IQR\n",
        "\n",
        "df_no_outliers = df[(df['Income'] >= lower_bound) & (df['Income'] <= upper_bound)]\n",
        "\n",
        "print(\"\\n--- Impact of Outliers ---\")\n",
        "print(\"With Outliers:\")\n",
        "print(df['Income'].describe())\n",
        "\n",
        "print(\"\\nWithout Outliers:\")\n",
        "print(df_no_outliers['Income'].describe())\n",
        "\n",
        "\n",
        "plt.figure(figsize=(12,5))\n",
        "\n",
        "plt.subplot(1,2,1)\n",
        "sns.boxplot(y=df['Income'], color=\"skyblue\")\n",
        "plt.title(\"With Outliers\")\n",
        "\n",
        "plt.subplot(1,2,2)\n",
        "sns.boxplot(y=df_no_outliers['Income'], color=\"lightgreen\")\n",
        "plt.title(\"Without Outliers\")\n",
        "\n",
        "plt.show()"
      ],
      "metadata": {
        "colab": {
          "base_uri": "https://localhost:8080/",
          "height": 1000
        },
        "id": "kkcugJDfkZoY",
        "outputId": "e6f0d02c-4436-4a7f-e29f-0071438abb8a"
      },
      "execution_count": 3,
      "outputs": [
        {
          "output_type": "stream",
          "name": "stdout",
          "text": [
            "Original Dataset:\n",
            "       Age  Income Student Buys_Computer\n",
            "0    <=30      40      No            No\n",
            "1    <=30      42      No            No\n",
            "2   31-40      39     Yes           Yes\n",
            "3    >=40      41     Yes           Yes\n",
            "4    <=30      43     Yes           Yes\n",
            "5   31-40      40      No            No\n",
            "6    >=40     300     Yes           Yes\n",
            "7    <=30      45      No            No\n",
            "8    >=40      38     Yes           Yes\n",
            "9   31-40     410      No            No\n",
            "10   <=30      44     Yes           Yes\n",
            "11   >=40      42      No            No\n",
            "12  31-40      39     Yes           Yes\n",
            "13   >=40      37      No            No\n",
            "14   <=30     450     Yes           Yes\n",
            "\n",
            "--- Impact of Outliers ---\n",
            "With Outliers:\n",
            "count     15.000000\n",
            "mean     110.000000\n",
            "std      146.183349\n",
            "min       37.000000\n",
            "25%       39.500000\n",
            "50%       42.000000\n",
            "75%       44.500000\n",
            "max      450.000000\n",
            "Name: Income, dtype: float64\n",
            "\n",
            "Without Outliers:\n",
            "count    12.000000\n",
            "mean     40.833333\n",
            "std       2.443296\n",
            "min      37.000000\n",
            "25%      39.000000\n",
            "50%      40.500000\n",
            "75%      42.250000\n",
            "max      45.000000\n",
            "Name: Income, dtype: float64\n"
          ]
        },
        {
          "output_type": "display_data",
          "data": {
            "text/plain": [
              "<Figure size 1200x500 with 2 Axes>"
            ],
            "image/png": "[encoded data removed]"
          },
          "metadata": {}
        }
      ]
    },
    {
      "cell_type": "code",
      "source": [
        "import pandas as pd\n",
        "\n",
        "\n",
        "customer_data = {\n",
        "    'Customer_ID': [101, 102, 103, 104, 105],\n",
        "    'Name': ['Alice', 'Bob', 'Charlie', 'David', 'Eva'],\n",
        "    'Age': [25, 30, 35, 40, 28]\n",
        "}\n",
        "df_customers = pd.DataFrame(customer_data)\n",
        "\n",
        "\n",
        "purchase_data = {\n",
        "    'Customer_ID': [101, 102, 104, 106],\n",
        "    'Product': ['Laptop', 'Mobile', 'Tablet', 'Headphones'],\n",
        "    'Amount': [75000, 20000, 30000, 5000]\n",
        "}\n",
        "df_purchases = pd.DataFrame(purchase_data)\n",
        "\n",
        "print(\"Customer Dataset:\\n\", df_customers, \"\\n\")\n",
        "print(\"Purchase Dataset:\\n\", df_purchases, \"\\n\")\n",
        "\n",
        "\n",
        "df_inner = pd.merge(df_customers, df_purchases, on='Customer_ID', how='inner')\n",
        "\n",
        "df_left = pd.merge(df_customers, df_purchases, on='Customer_ID', how='left')\n",
        "\n",
        "\n",
        "df_outer = pd.merge(df_customers, df_purchases, on='Customer_ID', how='outer')\n",
        "\n",
        "print(\"\\n--- Data Integration Results ---\")\n",
        "print(\"\\nInner Join (Only matching records):\\n\", df_inner)\n",
        "print(\"\\nLeft Join (All customers, purchases if available):\\n\", df_left)\n",
        "print(\"\\nOuter Join (All records from both datasets):\\n\", df_outer)"
      ],
      "metadata": {
        "colab": {
          "base_uri": "https://localhost:8080/"
        },
        "id": "KHDxlP9jkebp",
        "outputId": "59581218-2766-4a9e-e910-66ee878a0af2"
      },
      "execution_count": 4,
      "outputs": [
        {
          "output_type": "stream",
          "name": "stdout",
          "text": [
            "Customer Dataset:\n",
            "    Customer_ID     Name  Age\n",
            "0          101    Alice   25\n",
            "1          102      Bob   30\n",
            "2          103  Charlie   35\n",
            "3          104    David   40\n",
            "4          105      Eva   28 \n",
            "\n",
            "Purchase Dataset:\n",
            "    Customer_ID     Product  Amount\n",
            "0          101      Laptop   75000\n",
            "1          102      Mobile   20000\n",
            "2          104      Tablet   30000\n",
            "3          106  Headphones    5000 \n",
            "\n",
            "\n",
            "--- Data Integration Results ---\n",
            "\n",
            "Inner Join (Only matching records):\n",
            "    Customer_ID   Name  Age Product  Amount\n",
            "0          101  Alice   25  Laptop   75000\n",
            "1          102    Bob   30  Mobile   20000\n",
            "2          104  David   40  Tablet   30000\n",
            "\n",
            "Left Join (All customers, purchases if available):\n",
            "    Customer_ID     Name  Age Product   Amount\n",
            "0          101    Alice   25  Laptop  75000.0\n",
            "1          102      Bob   30  Mobile  20000.0\n",
            "2          103  Charlie   35     NaN      NaN\n",
            "3          104    David   40  Tablet  30000.0\n",
            "4          105      Eva   28     NaN      NaN\n",
            "\n",
            "Outer Join (All records from both datasets):\n",
            "    Customer_ID     Name   Age     Product   Amount\n",
            "0          101    Alice  25.0      Laptop  75000.0\n",
            "1          102      Bob  30.0      Mobile  20000.0\n",
            "2          103  Charlie  35.0         NaN      NaN\n",
            "3          104    David  40.0      Tablet  30000.0\n",
            "4          105      Eva  28.0         NaN      NaN\n",
            "5          106      NaN   NaN  Headphones   5000.0\n"
          ]
        }
      ]
    }
  ]
}