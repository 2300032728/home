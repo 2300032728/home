{
  "nbformat": 4,
  "nbformat_minor": 0,
  "metadata": {
    "colab": {
      "provenance": [],
      "toc_visible": true,
      "authorship_tag": "ABX9TyO4SYkWTe7XtjT6z6rqkFjc",
      "include_colab_link": true
    },
    "kernelspec": {
      "name": "python3",
      "display_name": "Python 3"
    },
    "language_info": {
      "name": "python"
    }
  },
  "cells": [
    {
      "cell_type": "markdown",
      "metadata": {
        "id": "view-in-github",
        "colab_type": "text"
      },
      "source": [
        "<a href=\"https://colab.research.google.com/github/2300032728/home/blob/main/lab3_dav.ipynb\" target=\"_parent\"><img src=\"https://colab.research.google.com/assets/colab-badge.svg\" alt=\"Open In Colab\"/></a>"
      ]
    },
    {
      "cell_type": "code",
      "execution_count": 1,
      "metadata": {
        "colab": {
          "base_uri": "https://localhost:8080/"
        },
        "id": "mr4i27vFePfi",
        "outputId": "fb5556de-75ba-4e7e-e237-c1f4cfa21249"
      },
      "outputs": [
        {
          "output_type": "stream",
          "name": "stdout",
          "text": [
            "     outlook temperature humidity  windy play\n",
            "0      sunny         hot     high  False   no\n",
            "1      sunny         hot     high   True   no\n",
            "2   overcast         hot     high  False  yes\n",
            "3      rainy        mild     high  False  yes\n",
            "4      rainy        cool   normal  False  yes\n",
            "5      rainy        cool   normal   True   no\n",
            "6   overcast        cool   normal   True  yes\n",
            "7      sunny        mild     high  False   no\n",
            "8      sunny        cool   normal  False  yes\n",
            "9      rainy        mild   normal  False  yes\n",
            "10     sunny        mild   normal   True  yes\n",
            "11  overcast        mild     high   True  yes\n",
            "12  overcast         hot   normal  False  yes\n",
            "13     rainy        mild     high   True   no\n"
          ]
        }
      ],
      "source": [
        "import pandas as pd\n",
        "\n",
        "# Weather dataset\n",
        "data = {\n",
        "    \"outlook\": [\"sunny\", \"sunny\", \"overcast\", \"rainy\", \"rainy\", \"rainy\", \"overcast\",\n",
        "                \"sunny\", \"sunny\", \"rainy\", \"sunny\", \"overcast\", \"overcast\", \"rainy\"],\n",
        "    \"temperature\": [\"hot\", \"hot\", \"hot\", \"mild\", \"cool\", \"cool\", \"cool\",\n",
        "                    \"mild\", \"cool\", \"mild\", \"mild\", \"mild\", \"hot\", \"mild\"],\n",
        "    \"humidity\": [\"high\", \"high\", \"high\", \"high\", \"normal\", \"normal\", \"normal\",\n",
        "                 \"high\", \"normal\", \"normal\", \"normal\", \"high\", \"normal\", \"high\"],\n",
        "    \"windy\": [False, True, False, False, False, True, True,\n",
        "              False, False, False, True, True, False, True],\n",
        "    \"play\": [\"no\", \"no\", \"yes\", \"yes\", \"yes\", \"no\", \"yes\",\n",
        "             \"no\", \"yes\", \"yes\", \"yes\", \"yes\", \"yes\", \"no\"]\n",
        "}\n",
        "\n",
        "# Load into DataFrame\n",
        "df = pd.DataFrame(data)\n",
        "\n",
        "# Display the DataFrame\n",
        "print(df)"
      ]
    },
    {
      "cell_type": "code",
      "source": [
        "print(\"First 5 rows (Head):\")\n",
        "print(df.head())\n",
        "\n",
        "print(\"\\nLast 5 rows (Tail):\")\n",
        "# Display last 5 rows (Tail)\n",
        "print(df.tail())"
      ],
      "metadata": {
        "colab": {
          "base_uri": "https://localhost:8080/"
        },
        "id": "FqfdRdnCeuC2",
        "outputId": "ac33ccf3-cba5-412d-d2f6-3f4d03a10c26"
      },
      "execution_count": 2,
      "outputs": [
        {
          "output_type": "stream",
          "name": "stdout",
          "text": [
            "First 5 rows (Head):\n",
            "    outlook temperature humidity  windy play\n",
            "0     sunny         hot     high  False   no\n",
            "1     sunny         hot     high   True   no\n",
            "2  overcast         hot     high  False  yes\n",
            "3     rainy        mild     high  False  yes\n",
            "4     rainy        cool   normal  False  yes\n",
            "\n",
            "Last 5 rows (Tail):\n",
            "     outlook temperature humidity  windy play\n",
            "9      rainy        mild   normal  False  yes\n",
            "10     sunny        mild   normal   True  yes\n",
            "11  overcast        mild     high   True  yes\n",
            "12  overcast         hot   normal  False  yes\n",
            "13     rainy        mild     high   True   no\n"
          ]
        }
      ]
    },
    {
      "cell_type": "code",
      "source": [
        "print(\"Dataset dimensions (rows, columns):\", df.shape)\n",
        "print(\"Number of rows:\", df.shape[0])\n",
        "print(\"Number of columns:\", df.shape[1])"
      ],
      "metadata": {
        "colab": {
          "base_uri": "https://localhost:8080/"
        },
        "id": "LDjeri9Nez8F",
        "outputId": "a596ecf2-8ebd-4b13-8445-e98b520af122"
      },
      "execution_count": 3,
      "outputs": [
        {
          "output_type": "stream",
          "name": "stdout",
          "text": [
            "Dataset dimensions (rows, columns): (14, 5)\n",
            "Number of rows: 14\n",
            "Number of columns: 5\n"
          ]
        }
      ]
    },
    {
      "cell_type": "code",
      "source": [
        "  print(\"Column names:\", df.columns)"
      ],
      "metadata": {
        "colab": {
          "base_uri": "https://localhost:8080/"
        },
        "id": "c1GSJHcje4LH",
        "outputId": "3761c437-ba8d-4905-86e5-26defeff977e"
      },
      "execution_count": 4,
      "outputs": [
        {
          "output_type": "stream",
          "name": "stdout",
          "text": [
            "Column names: Index(['outlook', 'temperature', 'humidity', 'windy', 'play'], dtype='object')\n"
          ]
        }
      ]
    },
    {
      "cell_type": "code",
      "source": [
        "print(df.describe(include='all'))\n"
      ],
      "metadata": {
        "colab": {
          "base_uri": "https://localhost:8080/"
        },
        "id": "uYz-t68Ae98U",
        "outputId": "838c8eb1-c201-420a-fb1c-f889eb442902"
      },
      "execution_count": 5,
      "outputs": [
        {
          "output_type": "stream",
          "name": "stdout",
          "text": [
            "       outlook temperature humidity  windy play\n",
            "count       14          14       14     14   14\n",
            "unique       3           3        2      2    2\n",
            "top      sunny        mild     high  False  yes\n",
            "freq         5           6        7      8    9\n"
          ]
        }
      ]
    },
    {
      "cell_type": "code",
      "source": [
        "print(df.info())"
      ],
      "metadata": {
        "colab": {
          "base_uri": "https://localhost:8080/"
        },
        "id": "MyMmGMSFfCKO",
        "outputId": "fad87681-73d5-4eb3-b3cb-66c9e9ca9cb2"
      },
      "execution_count": 6,
      "outputs": [
        {
          "output_type": "stream",
          "name": "stdout",
          "text": [
            "<class 'pandas.core.frame.DataFrame'>\n",
            "RangeIndex: 14 entries, 0 to 13\n",
            "Data columns (total 5 columns):\n",
            " #   Column       Non-Null Count  Dtype \n",
            "---  ------       --------------  ----- \n",
            " 0   outlook      14 non-null     object\n",
            " 1   temperature  14 non-null     object\n",
            " 2   humidity     14 non-null     object\n",
            " 3   windy        14 non-null     bool  \n",
            " 4   play         14 non-null     object\n",
            "dtypes: bool(1), object(4)\n",
            "memory usage: 594.0+ bytes\n",
            "None\n"
          ]
        }
      ]
    }
  ]
}